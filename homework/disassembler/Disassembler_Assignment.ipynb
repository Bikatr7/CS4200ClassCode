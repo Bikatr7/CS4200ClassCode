{
 "cells": [
  {
   "cell_type": "markdown",
   "id": "c96bb6ef-3e60-476d-a694-e02d9439c3a6",
   "metadata": {},
   "source": [
    "# Disassembler Assignment\n",
    "\n",
    "In this assignment you will be writing a disassembler. This assignment is worth 50 points.\n",
    "* 5 points for submitted code and well formatted comments.\n",
    "* 5 points for the disassembled instructions. You may submit a simple text file.\n",
    "* 40 points for instructions: 5 points each for each of the 8 instructions.\n",
    "\n",
    "# Disassembler\n",
    "\n",
    "A disassembler is a program that will read the binary encoded instructions, interpret them, and present them back to the user in a human readable assembly language. You may have used several examples of a disassembler without realizing; an example is the GNU Debugger (GDB) which uses a disassembler and debugging objects or labels.\n",
    "\n",
    "You may be curious to try one built into your linux system:\n",
    "\n",
    "```sh\n",
    "objdump -d <binary_executable> | less\n",
    "```\n",
    "\n",
    "## Instructions and formats\n",
    "\n",
    "|Type| funct7 | rs2 | rs1 | funct3 | rd | Opcode |\n",
    "| ---| ------ | --- | --- | ------ | -- | ------ |\n",
    "| R  |    7   |  5  |  5  |    3   | 5  |   7    |\n",
    "| I  |   12   |     |  5  |    3   | 5  |   7    |\n",
    "| S  |   imm[11:5]   |  5  |  5  |    3   | imm[4:0] | 7 |\n",
    "| SB |   imm[12\\|10:5] | 5  | 5   |    3   | imm[4:1\\|11] | 7|\n",
    "|  U |  20 | | | | 5 | 7 |"
   ]
  },
  {
   "cell_type": "markdown",
   "id": "0f912097-59f9-49cf-8032-15fd26d66246",
   "metadata": {},
   "source": [
    "Here is an example to get started. We'd like to know what the opcode is to start, then the value of rd or immediate."
   ]
  },
  {
   "cell_type": "code",
   "execution_count": null,
   "id": "a8baac4a-7b85-49e0-90e1-af330733d3b0",
   "metadata": {},
   "outputs": [],
   "source": [
    "import numpy as np"
   ]
  },
  {
   "cell_type": "code",
   "execution_count": null,
   "id": "3548e472-f3e0-4e69-ba48-d61f41c5e1a6",
   "metadata": {},
   "outputs": [],
   "source": [
    "instructions_as_bytes = np.fromfile('risc-v_instructions.bin', dtype=np.int32)\n",
    "# You might also seek to use python's file reader directly\n",
    "with open('risc-v_instructions.bin', 'rb') as rv_instrs:\n",
    "    binary_instructions = rv_instrs.read()\n",
    "print(bin(binary_instructions[0]))"
   ]
  },
  {
   "cell_type": "code",
   "execution_count": null,
   "id": "1d957269-a9f1-4493-a7bd-2f188ea11be9",
   "metadata": {},
   "outputs": [],
   "source": [
    "instructions_as_bytes.shape[0], len(binary_instructions)"
   ]
  },
  {
   "cell_type": "code",
   "execution_count": null,
   "id": "670479d2-5689-4d27-bbb6-f8d8432e4b59",
   "metadata": {},
   "outputs": [],
   "source": [
    "bin(instructions_as_bytes[0] & (2**7 - 1))"
   ]
  },
  {
   "cell_type": "markdown",
   "id": "220ea826-625c-40fa-9f3b-dc0ff7937822",
   "metadata": {},
   "source": [
    "If we examine the reference sheet, we see that for a value of `0b11` the instructions must be: `lb`, `lh`, `lw`, `lbu`, or `lhu`. We will need to check the higher bits from `funct3` to be sure which specific one."
   ]
  },
  {
   "cell_type": "code",
   "execution_count": null,
   "id": "29b24737-4bbc-469b-a5ff-8c956e2e312c",
   "metadata": {},
   "outputs": [],
   "source": [
    "bin((instructions_as_bytes[0] >> 7) & (2**8 - 1))"
   ]
  }
 ],
 "metadata": {
  "kernelspec": {
   "display_name": "Python 3 (ipykernel)",
   "language": "python",
   "name": "python3"
  },
  "language_info": {
   "codemirror_mode": {
    "name": "ipython",
    "version": 3
   },
   "file_extension": ".py",
   "mimetype": "text/x-python",
   "name": "python",
   "nbconvert_exporter": "python",
   "pygments_lexer": "ipython3",
   "version": "3.10.12"
  }
 },
 "nbformat": 4,
 "nbformat_minor": 5
}
