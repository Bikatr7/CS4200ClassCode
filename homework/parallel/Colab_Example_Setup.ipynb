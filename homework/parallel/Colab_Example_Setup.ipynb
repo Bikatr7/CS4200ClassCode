{
 "cells": [
  {
   "cell_type": "code",
   "execution_count": null,
   "metadata": {
    "colab": {
     "base_uri": "https://localhost:8080/"
    },
    "id": "UDKiKITG2xU4",
    "outputId": "87d11730-7252-4877-c4c7-b60e398edff4"
   },
   "outputs": [],
   "source": [
    "!lscpu"
   ]
  },
  {
   "cell_type": "code",
   "execution_count": null,
   "metadata": {
    "colab": {
     "base_uri": "https://localhost:8080/"
    },
    "id": "ph2AdkU945oW",
    "outputId": "6dc8dd8a-4d4f-4d64-b256-3d8173934c10"
   },
   "outputs": [],
   "source": [
    "!nvidia-smi"
   ]
  },
  {
   "cell_type": "code",
   "execution_count": null,
   "metadata": {
    "colab": {
     "base_uri": "https://localhost:8080/"
    },
    "id": "dcK4dTEu2yl7",
    "outputId": "283095e2-9990-422b-90df-3eb0f9d7fc33"
   },
   "outputs": [],
   "source": [
    "!nvcc --version"
   ]
  },
  {
   "cell_type": "code",
   "execution_count": null,
   "metadata": {
    "id": "JXFyzdgv21OW"
   },
   "outputs": [],
   "source": [
    "import cupy as cp"
   ]
  },
  {
   "cell_type": "code",
   "execution_count": null,
   "metadata": {
    "id": "IlW1e7JU23fH"
   },
   "outputs": [],
   "source": [
    "stream = cp.cuda.Stream(non_blocking=False)"
   ]
  },
  {
   "cell_type": "code",
   "execution_count": null,
   "metadata": {
    "id": "9RcCbnJ73Tf_"
   },
   "outputs": [],
   "source": [
    "with stream:\n",
    "  rand_arr = cp.random.random(1000000)"
   ]
  },
  {
   "cell_type": "code",
   "execution_count": null,
   "metadata": {
    "id": "27Lu_qLy4eOl"
   },
   "outputs": [],
   "source": [
    "stream.synchronize()"
   ]
  },
  {
   "cell_type": "code",
   "execution_count": null,
   "metadata": {
    "colab": {
     "base_uri": "https://localhost:8080/"
    },
    "id": "x4G29XND4jST",
    "outputId": "0ce8c8b3-e78d-4c29-cffe-8a214c9e056a"
   },
   "outputs": [],
   "source": [
    "print(rand_arr)"
   ]
  }
 ],
 "metadata": {
  "accelerator": "GPU",
  "colab": {
   "gpuType": "T4",
   "provenance": []
  },
  "kernelspec": {
   "display_name": "Python 3 (ipykernel)",
   "language": "python",
   "name": "python3"
  },
  "language_info": {
   "codemirror_mode": {
    "name": "ipython",
    "version": 3
   },
   "file_extension": ".py",
   "mimetype": "text/x-python",
   "name": "python",
   "nbconvert_exporter": "python",
   "pygments_lexer": "ipython3",
   "version": "3.10.12"
  }
 },
 "nbformat": 4,
 "nbformat_minor": 4
}
