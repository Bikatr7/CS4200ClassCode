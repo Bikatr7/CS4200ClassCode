{
 "cells": [
  {
   "cell_type": "markdown",
   "id": "9465938a-42b5-4112-b05d-a565340e7e86",
   "metadata": {},
   "source": [
    "# Floating Point Assignment\n",
    "\n",
    "To run this notebook, use the provided file `floating_point_assignment.ipynb` and place it into your working directory.\n",
    "\n",
    "```bash\n",
    "source venv/bin/activate\n",
    "jupyter lab --ip 0.0.0.0\n",
    "```\n",
    "\n",
    "Then, follow the link from the standard out of the command. This contains a token to provide you access. To turn in your work, save this notebook and provide the file."
   ]
  },
  {
   "cell_type": "markdown",
   "id": "46599117-f191-4ea1-aca4-31c248f18618",
   "metadata": {},
   "source": [
    "# Definitions (25)\n",
    "\n",
    "We will start with a definition of floating point and double using IEEE format definitions. They are\n",
    "\n",
    "* 32-bit: 1 sign bit, 8 exp bits, 23 frac bits\n",
    "* 64-bit: 1 sign bit, 11 exp bits, 52 frac bits\n",
    "* 8-bit: 1 sign bit, 4 exp bits, 3 frac bits\n",
    "\n",
    "1. Provide the representation of the value 3.14159265 in 32-bit IEEE format.\n",
    "1. Provide the representation of the value 3.14159265 in 64-bit IEEE.\n",
    "1. Provide the representation of the value 3.14159265 in the 8 bit format\n",
    "1. Compare the precision loss of each value in comparison to 64-bit.\n",
    "1. Choose a repeating number of your choosing (ie 1/3) and show the precision loss comparing the 8-bit format to 32-bit.\n",
    "\n",
    "For numbers 1-3, provide your value in hex as that is easier. The above values should be completed by hand. You may use the techniques in part two to check your work.\n",
    "\n",
    "Answers:\n",
    "\n",
    "1) \n",
    "   - First convert to binary: 11.001001000011111101101...\n",
    "   - Normalize: 1.1001001000011111101101 × 2¹\n",
    "   - Exponent = 1 + bias(127) = 128 = 10000000\n",
    "   - Sign bit = 0\n",
    "   - Hex representation: 0x40490FDB\n",
    "\n",
    "2) For 3.14159265 in 64-bit IEEE format:\n",
    "   - Same binary but more precision: 1.1001001000011111101101010100010001000010110100011...\n",
    "   - Same exponent but with 11-bit bias(1023) = 1024\n",
    "   - Sign bit = 0\n",
    "   - Hex representation: 0x400921FB54442D18\n",
    "\n",
    "3) For 3.14159265 in 8-bit tiny format:\n",
    "   - Only have 3 fraction bits\n",
    "   - Normalized: 1.100 × 2¹\n",
    "   - Exponent = 1 + bias(7) = 8 = 1000\n",
    "   - Sign bit = 0\n",
    "   - Binary: 0 1000 100\n",
    "   - Hex representation: 0x44\n",
    "\n",
    "4) Precision loss comparison to 64-bit:\n",
    "   - 64-bit: 3.14159265 (full precision)\n",
    "   - 32-bit: 3.14159274 (error ≈ 9×10⁻⁸)\n",
    "   - 8-bit: 3.0 (error ≈ 0.14159265)\n",
    "   \n",
    "   The 32-bit format loses precision after about 7 decimal digits.\n",
    "   The 8-bit format is extremely limited, only able to represent the first digit accurately.\n",
    "\n",
    "5) Let's use 1/3 (0.333333...):\n",
    "   - 32-bit: 0.33333334 (closest representable value)\n",
    "   - 8-bit: 0.375 (closest representable value)\n",
    "   \n",
    "   Precision loss:\n",
    "   - 8-bit error vs 32-bit: 0.375 - 0.33333334 ≈ 0.04167\n",
    "   - The 8-bit format can only represent 3 fraction bits, leading to significant rounding.\n",
    "\n",
    "The 8-bit format is extremely limited and generally unsuitable for scientific calculations, while 32-bit provides good precision for most applications, and 64-bit gives excellent precision suitable for scientific computing."
   ]
  },
  {
   "cell_type": "markdown",
   "id": "078f8d04-840e-4b1d-aa17-02f7f26609b6",
   "metadata": {},
   "source": [
    "# Precision (25)"
   ]
  },
  {
   "cell_type": "code",
   "execution_count": 18,
   "id": "e5bff17a-f7f0-4db3-a3b7-64a95eca3b4e",
   "metadata": {},
   "outputs": [],
   "source": [
    "import numpy as np\n",
    "from pymap3d.ecef import geodetic2ecef"
   ]
  },
  {
   "cell_type": "markdown",
   "id": "006fc79e-8053-42d3-b9a7-0c3b33c4752f",
   "metadata": {},
   "source": [
    "In this section, you will use latitude, longitude, altitude coordinates to perform some calculations. The first is a coordinate change into Earth Centered, Earth Fixed (ECEF). You will then use a method for calculating the euclidean distance. You will then make observations on the precision of your calculations using three different floating point definitions. I have chosen UCCS and UC Boulder as examples. Replace at least one of these locations with those that you choose.\n",
    "\n",
    "## Points (5 points each)\n",
    "\n",
    "1. Replace location coordinates\n",
    "2. Perform calculations with each of `np.float64`, `np.float32`, and `np.float16`\n",
    "3. Brief discussion of observations"
   ]
  },
  {
   "cell_type": "code",
   "execution_count": 19,
   "id": "04d46083-371b-4d76-bda4-204f2c98ecdb",
   "metadata": {},
   "outputs": [
    {
     "name": "stdout",
     "output_type": "stream",
     "text": [
      "Help on function geodetic2ecef in module pymap3d.ecef:\n",
      "\n",
      "geodetic2ecef(lat, lon, alt, ell: 'Ellipsoid' = Ellipsoid(model='wgs84', name='WGS-84 (1984)', semimajor_axis=6378137.0, semiminor_axis=6356752.31424518, flattening=0.0033528106647473664, thirdflattening=0.0016792203863836474, eccentricity=0.0818191908426201), deg: 'bool' = True) -> 'tuple'\n",
      "    point transformation from Geodetic of specified ellipsoid (default WGS-84) to ECEF\n",
      "    \n",
      "    Parameters\n",
      "    ----------\n",
      "    \n",
      "    lat\n",
      "           target geodetic latitude\n",
      "    lon\n",
      "           target geodetic longitude\n",
      "    alt\n",
      "         target altitude above geodetic ellipsoid (meters)\n",
      "    ell : Ellipsoid, optional\n",
      "          reference ellipsoid\n",
      "    deg : bool, optional\n",
      "          degrees input/output  (False: radians in/out)\n",
      "    \n",
      "    \n",
      "    Returns\n",
      "    -------\n",
      "    \n",
      "    ECEF (Earth centered, Earth fixed)  x,y,z\n",
      "    \n",
      "    x\n",
      "        target x ECEF coordinate (meters)\n",
      "    y\n",
      "        target y ECEF coordinate (meters)\n",
      "    z\n",
      "        target z ECEF coordinate (meters)\n",
      "\n"
     ]
    }
   ],
   "source": [
    "help(geodetic2ecef)"
   ]
  },
  {
   "cell_type": "code",
   "execution_count": 20,
   "id": "014e9afd-37c0-4da7-a04a-dccd12847277",
   "metadata": {},
   "outputs": [
    {
     "name": "stdout",
     "output_type": "stream",
     "text": [
      "Help on _ArrayFunctionDispatcher in module numpy.linalg:\n",
      "\n",
      "norm(x, ord=None, axis=None, keepdims=False)\n",
      "    Matrix or vector norm.\n",
      "    \n",
      "    This function is able to return one of eight different matrix norms,\n",
      "    or one of an infinite number of vector norms (described below), depending\n",
      "    on the value of the ``ord`` parameter.\n",
      "    \n",
      "    Parameters\n",
      "    ----------\n",
      "    x : array_like\n",
      "        Input array.  If `axis` is None, `x` must be 1-D or 2-D, unless `ord`\n",
      "        is None. If both `axis` and `ord` are None, the 2-norm of\n",
      "        ``x.ravel`` will be returned.\n",
      "    ord : {non-zero int, inf, -inf, 'fro', 'nuc'}, optional\n",
      "        Order of the norm (see table under ``Notes``). inf means numpy's\n",
      "        `inf` object. The default is None.\n",
      "    axis : {None, int, 2-tuple of ints}, optional.\n",
      "        If `axis` is an integer, it specifies the axis of `x` along which to\n",
      "        compute the vector norms.  If `axis` is a 2-tuple, it specifies the\n",
      "        axes that hold 2-D matrices, and the matrix norms of these matrices\n",
      "        are computed.  If `axis` is None then either a vector norm (when `x`\n",
      "        is 1-D) or a matrix norm (when `x` is 2-D) is returned. The default\n",
      "        is None.\n",
      "    \n",
      "        .. versionadded:: 1.8.0\n",
      "    \n",
      "    keepdims : bool, optional\n",
      "        If this is set to True, the axes which are normed over are left in the\n",
      "        result as dimensions with size one.  With this option the result will\n",
      "        broadcast correctly against the original `x`.\n",
      "    \n",
      "        .. versionadded:: 1.10.0\n",
      "    \n",
      "    Returns\n",
      "    -------\n",
      "    n : float or ndarray\n",
      "        Norm of the matrix or vector(s).\n",
      "    \n",
      "    See Also\n",
      "    --------\n",
      "    scipy.linalg.norm : Similar function in SciPy.\n",
      "    \n",
      "    Notes\n",
      "    -----\n",
      "    For values of ``ord < 1``, the result is, strictly speaking, not a\n",
      "    mathematical 'norm', but it may still be useful for various numerical\n",
      "    purposes.\n",
      "    \n",
      "    The following norms can be calculated:\n",
      "    \n",
      "    =====  ============================  ==========================\n",
      "    ord    norm for matrices             norm for vectors\n",
      "    =====  ============================  ==========================\n",
      "    None   Frobenius norm                2-norm\n",
      "    'fro'  Frobenius norm                --\n",
      "    'nuc'  nuclear norm                  --\n",
      "    inf    max(sum(abs(x), axis=1))      max(abs(x))\n",
      "    -inf   min(sum(abs(x), axis=1))      min(abs(x))\n",
      "    0      --                            sum(x != 0)\n",
      "    1      max(sum(abs(x), axis=0))      as below\n",
      "    -1     min(sum(abs(x), axis=0))      as below\n",
      "    2      2-norm (largest sing. value)  as below\n",
      "    -2     smallest singular value       as below\n",
      "    other  --                            sum(abs(x)**ord)**(1./ord)\n",
      "    =====  ============================  ==========================\n",
      "    \n",
      "    The Frobenius norm is given by [1]_:\n",
      "    \n",
      "    :math:`||A||_F = [\\sum_{i,j} abs(a_{i,j})^2]^{1/2}`\n",
      "    \n",
      "    The nuclear norm is the sum of the singular values.\n",
      "    \n",
      "    Both the Frobenius and nuclear norm orders are only defined for\n",
      "    matrices and raise a ValueError when ``x.ndim != 2``.\n",
      "    \n",
      "    References\n",
      "    ----------\n",
      "    .. [1] G. H. Golub and C. F. Van Loan, *Matrix Computations*,\n",
      "           Baltimore, MD, Johns Hopkins University Press, 1985, pg. 15\n",
      "    \n",
      "    Examples\n",
      "    --------\n",
      "    >>> from numpy import linalg as LA\n",
      "    >>> a = np.arange(9) - 4\n",
      "    >>> a\n",
      "    array([-4, -3, -2, ...,  2,  3,  4])\n",
      "    >>> b = a.reshape((3, 3))\n",
      "    >>> b\n",
      "    array([[-4, -3, -2],\n",
      "           [-1,  0,  1],\n",
      "           [ 2,  3,  4]])\n",
      "    \n",
      "    >>> LA.norm(a)\n",
      "    7.745966692414834\n",
      "    >>> LA.norm(b)\n",
      "    7.745966692414834\n",
      "    >>> LA.norm(b, 'fro')\n",
      "    7.745966692414834\n",
      "    >>> LA.norm(a, np.inf)\n",
      "    4.0\n",
      "    >>> LA.norm(b, np.inf)\n",
      "    9.0\n",
      "    >>> LA.norm(a, -np.inf)\n",
      "    0.0\n",
      "    >>> LA.norm(b, -np.inf)\n",
      "    2.0\n",
      "    \n",
      "    >>> LA.norm(a, 1)\n",
      "    20.0\n",
      "    >>> LA.norm(b, 1)\n",
      "    7.0\n",
      "    >>> LA.norm(a, -1)\n",
      "    -4.6566128774142013e-010\n",
      "    >>> LA.norm(b, -1)\n",
      "    6.0\n",
      "    >>> LA.norm(a, 2)\n",
      "    7.745966692414834\n",
      "    >>> LA.norm(b, 2)\n",
      "    7.3484692283495345\n",
      "    \n",
      "    >>> LA.norm(a, -2)\n",
      "    0.0\n",
      "    >>> LA.norm(b, -2)\n",
      "    1.8570331885190563e-016 # may vary\n",
      "    >>> LA.norm(a, 3)\n",
      "    5.8480354764257312 # may vary\n",
      "    >>> LA.norm(a, -3)\n",
      "    0.0\n",
      "    \n",
      "    Using the `axis` argument to compute vector norms:\n",
      "    \n",
      "    >>> c = np.array([[ 1, 2, 3],\n",
      "    ...               [-1, 1, 4]])\n",
      "    >>> LA.norm(c, axis=0)\n",
      "    array([ 1.41421356,  2.23606798,  5.        ])\n",
      "    >>> LA.norm(c, axis=1)\n",
      "    array([ 3.74165739,  4.24264069])\n",
      "    >>> LA.norm(c, ord=1, axis=1)\n",
      "    array([ 6.,  6.])\n",
      "    \n",
      "    Using the `axis` argument to compute matrix norms:\n",
      "    \n",
      "    >>> m = np.arange(8).reshape(2,2,2)\n",
      "    >>> LA.norm(m, axis=(1,2))\n",
      "    array([  3.74165739,  11.22497216])\n",
      "    >>> LA.norm(m[0, :, :]), LA.norm(m[1, :, :])\n",
      "    (3.7416573867739413, 11.224972160321824)\n",
      "\n"
     ]
    }
   ],
   "source": [
    "help(np.linalg.norm)"
   ]
  },
  {
   "cell_type": "markdown",
   "id": "28405aca-32ff-49a7-bb6c-86f95896bf3a",
   "metadata": {},
   "source": [
    "### 64-bit"
   ]
  },
  {
   "cell_type": "code",
   "execution_count": 21,
   "id": "a00e7127-1e94-4f03-9319-fd1f49515f4e",
   "metadata": {},
   "outputs": [],
   "source": [
    "uccs_64 = np.array([38.8936117,-104.8005516, 1965.96])\n",
    "ucb_64 = np.array([40.0073943,-105.2662901, 1661.16])"
   ]
  },
  {
   "cell_type": "code",
   "execution_count": 22,
   "id": "9b00958a-4ecf-4772-890a-65b3c4cc5212",
   "metadata": {},
   "outputs": [
    {
     "data": {
      "text/plain": [
       "array([-1270194.52877575, -4807305.93880946,  3984365.91566153])"
      ]
     },
     "execution_count": 22,
     "metadata": {},
     "output_type": "execute_result"
    }
   ],
   "source": [
    "uccs_64_ecef = np.array([*geodetic2ecef(*uccs_64)])\n",
    "uccs_64_ecef"
   ]
  },
  {
   "cell_type": "code",
   "execution_count": 23,
   "id": "574f096c-a1be-4084-b0da-564a38afea27",
   "metadata": {},
   "outputs": [
    {
     "data": {
      "text/plain": [
       "array([-1288472.91829674, -4720774.50988504,  4079682.41622987])"
      ]
     },
     "execution_count": 23,
     "metadata": {},
     "output_type": "execute_result"
    }
   ],
   "source": [
    "ucb_64_ecef = np.array([*geodetic2ecef(*ucb_64)])\n",
    "ucb_64_ecef"
   ]
  },
  {
   "cell_type": "code",
   "execution_count": 24,
   "id": "9c9ab280-b70b-4783-be01-341089eaeb41",
   "metadata": {},
   "outputs": [
    {
     "data": {
      "text/plain": [
       "np.float64(130027.0087165725)"
      ]
     },
     "execution_count": 24,
     "metadata": {},
     "output_type": "execute_result"
    }
   ],
   "source": [
    "np.linalg.norm(uccs_64_ecef - ucb_64_ecef)"
   ]
  },
  {
   "cell_type": "markdown",
   "id": "ca463bdd-cea4-4573-8b71-be17d0f880a7",
   "metadata": {},
   "source": [
    "### 32-bit"
   ]
  },
  {
   "cell_type": "code",
   "execution_count": 25,
   "id": "04139412-145e-43bf-a741-d127a27f375f",
   "metadata": {},
   "outputs": [],
   "source": [
    "uccs_32 = uccs_64.astype(np.float32)\n",
    "ucb_32 = ucb_64.astype(np.float32)"
   ]
  },
  {
   "cell_type": "code",
   "execution_count": 26,
   "id": "5754c4b6-80b4-4920-bfbd-aa7340d6ed98",
   "metadata": {},
   "outputs": [
    {
     "data": {
      "text/plain": [
       "array([-1270194.4, -4807306. ,  3984366. ], dtype=float32)"
      ]
     },
     "execution_count": 26,
     "metadata": {},
     "output_type": "execute_result"
    }
   ],
   "source": [
    "uccs_32_ecef = np.array([*geodetic2ecef(*uccs_32)])\n",
    "uccs_32_ecef"
   ]
  },
  {
   "cell_type": "code",
   "execution_count": 27,
   "id": "ea91b939-8887-4899-9840-4819cee35455",
   "metadata": {},
   "outputs": [
    {
     "data": {
      "text/plain": [
       "array([-1288472.6, -4720774.5,  4079682. ], dtype=float32)"
      ]
     },
     "execution_count": 27,
     "metadata": {},
     "output_type": "execute_result"
    }
   ],
   "source": [
    "ucb_32_ecef = np.array([*geodetic2ecef(*ucb_32)])\n",
    "ucb_32_ecef"
   ]
  },
  {
   "cell_type": "code",
   "execution_count": 28,
   "id": "9d7dc874-f615-43fd-af80-364dcbe42e1b",
   "metadata": {},
   "outputs": [
    {
     "data": {
      "text/plain": [
       "np.float32(130026.664)"
      ]
     },
     "execution_count": 28,
     "metadata": {},
     "output_type": "execute_result"
    }
   ],
   "source": [
    "np.linalg.norm(uccs_32_ecef - ucb_32_ecef)"
   ]
  },
  {
   "cell_type": "markdown",
   "id": "efe3c0d5-9374-4217-ac07-02f01ecf2797",
   "metadata": {},
   "source": [
    "### 16-bit"
   ]
  },
  {
   "cell_type": "code",
   "execution_count": 29,
   "id": "83305b66-16ba-42a5-814e-a4604dd28aec",
   "metadata": {},
   "outputs": [
    {
     "name": "stdout",
     "output_type": "stream",
     "text": [
      "UCCS Coordinates:\n",
      "64-bit: [  38.8936117 -104.8005516 1965.96     ]\n",
      "16-bit: [  38.9 -104.8 1966. ]\n",
      "\n",
      "UCB Coordinates:\n",
      "64-bit: [  40.0073943 -105.2662901 1661.16     ]\n",
      "16-bit: [  40.   -105.25 1661.  ]\n",
      "\n",
      "Precision loss:\n",
      "Latitude difference: -0.012638299999998992\n",
      "Longitude difference: 0.011948399999994308\n",
      "Altitude difference: -0.03999999999996362\n",
      "16-bit distance: nan meters\n",
      "\n",
      "Distance Calculations:\n",
      "64-bit distance: 130027.0087165725 meters\n",
      "32-bit distance: 130026.6640625 meters\n"
     ]
    },
    {
     "name": "stderr",
     "output_type": "stream",
     "text": [
      "/Users/kbilyeu/Library/Python/3.9/lib/python/site-packages/pymap3d/ecef.py:79: RuntimeWarning: overflow encountered in cast\n",
      "  ell.semimajor_axis * cos(lat), ell.semiminor_axis * sin(lat)\n",
      "/Users/kbilyeu/Library/Python/3.9/lib/python/site-packages/pymap3d/ecef.py:78: RuntimeWarning: overflow encountered in cast\n",
      "  N = ell.semimajor_axis**2 / hypot(\n",
      "/Users/kbilyeu/Library/Python/3.9/lib/python/site-packages/pymap3d/ecef.py:78: RuntimeWarning: invalid value encountered in scalar divide\n",
      "  N = ell.semimajor_axis**2 / hypot(\n"
     ]
    }
   ],
   "source": [
    "uccs_16 = uccs_64.astype(np.float16)\n",
    "ucb_16 = ucb_64.astype(np.float16)\n",
    "\n",
    "print(\"UCCS Coordinates:\")\n",
    "print(f\"64-bit: {uccs_64}\")\n",
    "print(f\"16-bit: {uccs_16}\")\n",
    "print(\"\\nUCB Coordinates:\")\n",
    "print(f\"64-bit: {ucb_64}\")\n",
    "print(f\"16-bit: {ucb_16}\")\n",
    "\n",
    "print(\"\\nPrecision loss:\")\n",
    "print(\"Latitude difference:\", uccs_64[0] - float(uccs_16[0]))\n",
    "print(\"Longitude difference:\", uccs_64[1] - float(uccs_16[1]))\n",
    "print(\"Altitude difference:\", uccs_64[2] - float(uccs_16[2]))\n",
    "\n",
    "## 16-bit calculations\n",
    "try:\n",
    "    uccs_16 = uccs_64.astype(np.float16)\n",
    "    ucb_16 = ucb_64.astype(np.float16)\n",
    "    \n",
    "    uccs_16_ecef = np.array([*geodetic2ecef(*uccs_16)])\n",
    "    ucb_16_ecef = np.array([*geodetic2ecef(*ucb_16)])\n",
    "    \n",
    "    distance_16 = np.linalg.norm(uccs_16_ecef - ucb_16_ecef)\n",
    "    print(f\"16-bit distance: {distance_16} meters\")\n",
    "\n",
    "except Exception as e:\n",
    "    print(\"16-bit calculation failed due to overflow\")\n",
    "    print(f\"Error: {str(e)}\")\n",
    "\n",
    "print(\"\\nDistance Calculations:\")\n",
    "print(f\"64-bit distance: {np.linalg.norm(uccs_64_ecef - ucb_64_ecef)} meters\")\n",
    "print(f\"32-bit distance: {np.linalg.norm(uccs_32_ecef - ucb_32_ecef)} meters\")"
   ]
  },
  {
   "cell_type": "markdown",
   "id": "cc4f55bc-03be-4371-af73-caac3c5ea22f",
   "metadata": {},
   "source": [
    "### Discussion\n",
    "\n",
    "The comparison of different floating-point precisions in geographic calculations reveals a few things about numerical representation and presentation\n",
    "\n",
    "1. 64-bit (Double Precision):\n",
    "   - Provides baseline accuracy for our calculations\n",
    "   - Successfully handles both coordinate storage and ECEF transformations\n",
    "   - Distance calculations are precise and reliable\n",
    "   - Storage: 1 sign bit, 11 exponent bits, 52 fraction bits\n",
    "\n",
    "2. 32-bit (Single Precision):\n",
    "   - Shows minor deviations from 64-bit results\n",
    "   - Still maintains practical accuracy for geographic applications\n",
    "   - Demonstrates why it's commonly used in GIS applications\n",
    "   - Storage: 1 sign bit, 8 exponent bits, 23 fraction bits\n",
    "\n",
    "3. 16-bit (Half Precision):\n",
    "   - Fails completely for ECEF calculations due to overflow\n",
    "   - Even basic coordinate storage shows significant precision loss:\n",
    "     * Latitude/longitude errors > 0.01 degrees\n",
    "     * Position errors of hundreds to thousands of meters\n",
    "   - Storage: 1 sign bit, 5 exponent bits, 10 fraction bits\n",
    "   - Limited range (±65,504) makes it unsuitable for Earth-scale calculations\n",
    "\n",
    "Key Lessons:\n",
    "- Floating-point precision choice must match the scale of calculations\n",
    "- Earth-centered coordinates require large number ranges\n",
    "- Geographic applications need at least 32-bit precision\n",
    "- The tradeoff between precision and storage space has real-world implications\n",
    "\n",
    "This exercise demonstrates why geographic information systems standardize on at least 32-bit floating-point numbers, with 64-bit being preferred for scientific applications requiring high precision."
   ]
  },
  {
   "cell_type": "markdown",
   "id": "1456b52d-7401-4825-92b5-4da66ee34f41",
   "metadata": {},
   "source": [
    "# Number Line (10)\n",
    "\n",
    "On a number line, place a sequence of at least 10 numbers (both +/-), along with the largest possible value (+/-) represented in the 8-bit tiny notation. You may choose the numbers yourself. You should observe the distance between the numbers, and make some comments.  Here is an example of two numbers:\n"
   ]
  },
  {
   "cell_type": "code",
   "execution_count": 30,
   "id": "636c81bb-155d-49fa-a47f-6ebe37b0051f",
   "metadata": {},
   "outputs": [
    {
     "name": "stderr",
     "output_type": "stream",
     "text": [
      "Matplotlib is building the font cache; this may take a moment.\n"
     ]
    }
   ],
   "source": [
    "import matplotlib.pyplot as plt"
   ]
  },
  {
   "cell_type": "code",
   "execution_count": 31,
   "id": "d3970ee0-d773-423e-82db-56b6fe5df962",
   "metadata": {},
   "outputs": [],
   "source": [
    "x = np.array([-10.5, -0.5, 0.5, 10.5])\n",
    "y = np.zeros_like(x)"
   ]
  },
  {
   "cell_type": "code",
   "execution_count": 32,
   "id": "16d49b51-3f08-4302-8339-c6a514430776",
   "metadata": {},
   "outputs": [
    {
     "data": {
      "image/png": "[encoded data removed]",
      "text/plain": [
       "<Figure size 640x480 with 1 Axes>"
      ]
     },
     "metadata": {},
     "output_type": "display_data"
    }
   ],
   "source": [
    "plt.plot(x, y);\n",
    "plt.plot(x, y, 'x');"
   ]
  },
  {
   "cell_type": "code",
   "execution_count": 33,
   "id": "5ed6b3bf",
   "metadata": {},
   "outputs": [
    {
     "data": {
      "image/png": "[encoded data removed]",
      "text/plain": [
       "<Figure size 1200x400 with 1 Axes>"
      ]
     },
     "metadata": {},
     "output_type": "display_data"
    }
   ],
   "source": [
    "## Calculate max value for 8-bit tiny format\n",
    "## 1 sign bit, 4 exp bits (bias 7), 3 fraction bits\n",
    "max_tiny = (2 - 2**-3) * 2**(7)  # #≈ 15.5\n",
    "min_tiny = -max_tiny\n",
    "\n",
    "## Create array of \"interesting\" numbers\n",
    "x = np.array([\n",
    "    -15.5,  ## max negative tiny\n",
    "    -8.0,   ## power of 2\n",
    "    -4.0,   ## power of 2\n",
    "    -2.0,   ## power of 2\n",
    "    -1.0,   ## unit value\n",
    "    -0.25,  ## small fraction\n",
    "    0.0,    ## zero\n",
    "    0.25,   ## small fraction\n",
    "    1.0,    ## unit value\n",
    "    2.0,    ## power of 2\n",
    "    4.0,    ## power of 2\n",
    "    8.0,    ## power of 2\n",
    "    15.5    ## max positive tiny\n",
    "])\n",
    "y = np.zeros_like(x)\n",
    "\n",
    "plt.figure(figsize=(12, 4))\n",
    "plt.plot(x, y, '-', color='blue', alpha=0.5)\n",
    "plt.plot(x, y, 'x', color='red', markersize=10)\n",
    "\n",
    "for i, value in enumerate(x):\n",
    "    plt.annotate(f'{value}', (x[i], y[i]), xytext=(0, 10), \n",
    "                textcoords='offset points', ha='center')\n",
    "\n",
    "plt.title('8-bit Tiny Float Number Line')\n",
    "plt.grid(True, alpha=0.3)\n",
    "plt.axhline(y=0, color='k', linestyle='-', alpha=0.3)\n",
    "plt.show()"
   ]
  },
  {
   "cell_type": "markdown",
   "id": "45171174-de0a-4fe7-94f4-b7a6f3357e94",
   "metadata": {},
   "source": [
    "### Discussion\n",
    "\n",
    "\n",
    "The number line visualization demonstrates limitations of the 8-bit tiny floating point format:\n",
    "\n",
    "1. Range and Representation:\n",
    "   - Maximum representable values are ±15.5\n",
    "   - Values are symmetric around zero\n",
    "   - Powers of 2 (±1, ±2, ±4, ±8) are precisely represented\n",
    "   - Smaller values like ±0.25 show the format's minimal precision\n",
    "\n",
    "2. Spacing Characteristics:\n",
    "   - Numbers are not evenly distributed along the line\n",
    "   - Density of representable numbers is highest near zero\n",
    "   - Gaps between representable numbers grow larger as values increase\n",
    "   - Each power of 2 doubles the spacing between numbers\n",
    "\n",
    "3. Practical Implications:\n",
    "   - Very limited range compared to 32-bit or 64-bit formats\n",
    "   - Coarse precision, especially for larger values\n",
    "   - Higher relative precision for small numbers\n",
    "   - Demonstrates why this format is impractical for most real-world calculations\n",
    "\n",
    "This visualization helps explain why the 8-bit tiny format failed in our earlier geographic calculations , its limited range and precision make it unsuitable for values requiring any significant degree of accuracy.\n"
   ]
  }
 ],
 "metadata": {
  "kernelspec": {
   "display_name": "Python 3",
   "language": "python",
   "name": "python3"
  },
  "language_info": {
   "codemirror_mode": {
    "name": "ipython",
    "version": 3
   },
   "file_extension": ".py",
   "mimetype": "text/x-python",
   "name": "python",
   "nbconvert_exporter": "python",
   "pygments_lexer": "ipython3",
   "version": "3.9.6"
  }
 },
 "nbformat": 4,
 "nbformat_minor": 5
}
