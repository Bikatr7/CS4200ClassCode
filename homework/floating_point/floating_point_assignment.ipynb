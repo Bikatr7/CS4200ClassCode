{
 "cells": [
  {
   "cell_type": "markdown",
   "id": "9465938a-42b5-4112-b05d-a565340e7e86",
   "metadata": {},
   "source": [
    "# Floating Point Assignment\n",
    "\n",
    "To run this notebook, use the provided file `floating_point_assignment.ipynb` and place it into your working directory.\n",
    "\n",
    "```bash\n",
    "source venv/bin/activate\n",
    "jupyter lab --ip 0.0.0.0\n",
    "```\n",
    "\n",
    "Then, follow the link from the standard out of the command. This contains a token to provide you access. To turn in your work, save this notebook and provide the file."
   ]
  },
  {
   "cell_type": "markdown",
   "id": "46599117-f191-4ea1-aca4-31c248f18618",
   "metadata": {},
   "source": [
    "# Definitions (25)\n",
    "\n",
    "We will start with a definition of floating point and double using IEEE format definitions. They are\n",
    "\n",
    "* 32-bit: 1 sign bit, 8 exp bits, 23 frac bits\n",
    "* 64-bit: 1 sign bit, 11 exp bits, 52 frac bits\n",
    "* 8-bit: 1 sign bit, 4 exp bits, 3 frac bits\n",
    "\n",
    "1. Provide the representation of the value 3.14159265 in 32-bit IEEE format.\n",
    "1. Provide the representation of the value 3.14159265 in 64-bit IEEE.\n",
    "1. Provide the representation of the value 3.14159265 in the 8 bit format\n",
    "1. Compare the precision loss of each value in comparison to 64-bit.\n",
    "1. Choose a repeating number of your choosing (ie 1/3) and show the precision loss comparing the 8-bit format to 32-bit.\n",
    "\n",
    "For numbers 1-3, provide your value in hex as that is easier. The above values should be completed by hand. You may use the techniques in part two to check your work."
   ]
  },
  {
   "cell_type": "markdown",
   "id": "078f8d04-840e-4b1d-aa17-02f7f26609b6",
   "metadata": {},
   "source": [
    "# Precision (25)"
   ]
  },
  {
   "cell_type": "code",
   "execution_count": null,
   "id": "e5bff17a-f7f0-4db3-a3b7-64a95eca3b4e",
   "metadata": {},
   "outputs": [],
   "source": [
    "import numpy as np\n",
    "from pymap3d.ecef import geodetic2ecef"
   ]
  },
  {
   "cell_type": "markdown",
   "id": "006fc79e-8053-42d3-b9a7-0c3b33c4752f",
   "metadata": {},
   "source": [
    "In this section, you will use latitude, longitude, altitude coordinates to perform some calculations. The first is a coordinate change into Earth Centered, Earth Fixed (ECEF). You will then use a method for calculating the euclidean distance. You will then make observations on the precision of your calculations using three different floating point definitions. I have chosen UCCS and UC Boulder as examples. Replace at least one of these locations with those that you choose.\n",
    "\n",
    "## Points (5 points each)\n",
    "\n",
    "1. Replace location coordinates\n",
    "2. Perform calculations with each of `np.float64`, `np.float32`, and `np.float16`\n",
    "3. Brief discussion of observations"
   ]
  },
  {
   "cell_type": "code",
   "execution_count": null,
   "id": "04d46083-371b-4d76-bda4-204f2c98ecdb",
   "metadata": {},
   "outputs": [],
   "source": [
    "help(geodetic2ecef)"
   ]
  },
  {
   "cell_type": "code",
   "execution_count": null,
   "id": "014e9afd-37c0-4da7-a04a-dccd12847277",
   "metadata": {},
   "outputs": [],
   "source": [
    "help(np.linalg.norm)"
   ]
  },
  {
   "cell_type": "markdown",
   "id": "28405aca-32ff-49a7-bb6c-86f95896bf3a",
   "metadata": {},
   "source": [
    "### 64-bit"
   ]
  },
  {
   "cell_type": "code",
   "execution_count": null,
   "id": "a00e7127-1e94-4f03-9319-fd1f49515f4e",
   "metadata": {},
   "outputs": [],
   "source": [
    "uccs_64 = np.array([38.8936117,-104.8005516, 1965.96])\n",
    "ucb_64 = np.array([40.0073943,-105.2662901, 1661.16])"
   ]
  },
  {
   "cell_type": "code",
   "execution_count": null,
   "id": "9b00958a-4ecf-4772-890a-65b3c4cc5212",
   "metadata": {},
   "outputs": [],
   "source": [
    "uccs_64_ecef = np.array([*geodetic2ecef(*uccs_64)])\n",
    "uccs_64_ecef"
   ]
  },
  {
   "cell_type": "code",
   "execution_count": null,
   "id": "574f096c-a1be-4084-b0da-564a38afea27",
   "metadata": {},
   "outputs": [],
   "source": [
    "ucb_64_ecef = np.array([*geodetic2ecef(*ucb_64)])\n",
    "ucb_64_ecef"
   ]
  },
  {
   "cell_type": "code",
   "execution_count": null,
   "id": "9c9ab280-b70b-4783-be01-341089eaeb41",
   "metadata": {},
   "outputs": [],
   "source": [
    "np.linalg.norm(uccs_64_ecef - ucb_64_ecef)"
   ]
  },
  {
   "cell_type": "markdown",
   "id": "ca463bdd-cea4-4573-8b71-be17d0f880a7",
   "metadata": {},
   "source": [
    "### 32-bit"
   ]
  },
  {
   "cell_type": "code",
   "execution_count": null,
   "id": "04139412-145e-43bf-a741-d127a27f375f",
   "metadata": {},
   "outputs": [],
   "source": [
    "uccs_32 = uccs_64.astype(np.float32)\n",
    "ucb_32 = ucb_64.astype(np.float32)"
   ]
  },
  {
   "cell_type": "code",
   "execution_count": null,
   "id": "5754c4b6-80b4-4920-bfbd-aa7340d6ed98",
   "metadata": {},
   "outputs": [],
   "source": [
    "uccs_32_ecef = np.array([*geodetic2ecef(*uccs_32)])\n",
    "uccs_32_ecef"
   ]
  },
  {
   "cell_type": "code",
   "execution_count": null,
   "id": "ea91b939-8887-4899-9840-4819cee35455",
   "metadata": {},
   "outputs": [],
   "source": [
    "ucb_32_ecef = np.array([*geodetic2ecef(*ucb_32)])\n",
    "ucb_32_ecef"
   ]
  },
  {
   "cell_type": "code",
   "execution_count": null,
   "id": "9d7dc874-f615-43fd-af80-364dcbe42e1b",
   "metadata": {},
   "outputs": [],
   "source": [
    "np.linalg.norm(uccs_32_ecef - ucb_32_ecef)"
   ]
  },
  {
   "cell_type": "markdown",
   "id": "efe3c0d5-9374-4217-ac07-02f01ecf2797",
   "metadata": {},
   "source": [
    "### 16-bit"
   ]
  },
  {
   "cell_type": "code",
   "execution_count": null,
   "id": "83305b66-16ba-42a5-814e-a4604dd28aec",
   "metadata": {},
   "outputs": [],
   "source": [
    "# Complete on your own"
   ]
  },
  {
   "cell_type": "markdown",
   "id": "cc4f55bc-03be-4371-af73-caac3c5ea22f",
   "metadata": {},
   "source": [
    "### Discussion\n",
    "\n",
    "Provide a brief discussion here"
   ]
  },
  {
   "cell_type": "markdown",
   "id": "1456b52d-7401-4825-92b5-4da66ee34f41",
   "metadata": {},
   "source": [
    "# Number Line (10)\n",
    "\n",
    "On a number line, place a sequence of at least 10 numbers (both +/-), along with the largest possible value (+/-) represented in the 8-bit tiny notation. You may choose the numbers yourself. You should observe the distance between the numbers, and make some comments.  Here is an example of two numbers:"
   ]
  },
  {
   "cell_type": "code",
   "execution_count": null,
   "id": "636c81bb-155d-49fa-a47f-6ebe37b0051f",
   "metadata": {},
   "outputs": [],
   "source": [
    "import matplotlib.pyplot as plt"
   ]
  },
  {
   "cell_type": "code",
   "execution_count": null,
   "id": "d3970ee0-d773-423e-82db-56b6fe5df962",
   "metadata": {},
   "outputs": [],
   "source": [
    "x = np.array([-10.5, -0.5, 0.5, 10.5])\n",
    "y = np.zeros_like(x)"
   ]
  },
  {
   "cell_type": "code",
   "execution_count": null,
   "id": "16d49b51-3f08-4302-8339-c6a514430776",
   "metadata": {},
   "outputs": [],
   "source": [
    "plt.plot(x, y);\n",
    "plt.plot(x, y, 'x');"
   ]
  },
  {
   "cell_type": "markdown",
   "id": "45171174-de0a-4fe7-94f4-b7a6f3357e94",
   "metadata": {},
   "source": [
    "### Discussion\n",
    "\n",
    "Provide a brief discussion here"
   ]
  }
 ],
 "metadata": {
  "kernelspec": {
   "display_name": "Python 3 (ipykernel)",
   "language": "python",
   "name": "python3"
  },
  "language_info": {
   "codemirror_mode": {
    "name": "ipython",
    "version": 3
   },
   "file_extension": ".py",
   "mimetype": "text/x-python",
   "name": "python",
   "nbconvert_exporter": "python",
   "pygments_lexer": "ipython3",
   "version": "3.12.3"
  }
 },
 "nbformat": 4,
 "nbformat_minor": 5
}
